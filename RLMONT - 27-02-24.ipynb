{
 "cells": [
  {
   "cell_type": "code",
   "execution_count": 17,
   "id": "7430061e",
   "metadata": {},
   "outputs": [],
   "source": [
    "import numpy as np\n",
    "import matplotlib.pyplot as plt\n",
    "#!pip install gym\n",
    "#!pip install pygame"
   ]
  },
  {
   "cell_type": "code",
   "execution_count": 18,
   "id": "49f6d9d3",
   "metadata": {},
   "outputs": [],
   "source": [
    "from typing import Tuple, Dict, Optional, Iterable, Callable\n",
    "\n",
    "import numpy as np\n",
    "import seaborn as sns\n",
    "import matplotlib\n",
    "from matplotlib import animation\n",
    "import matplotlib.pyplot as plt\n",
    "\n",
    "\n",
    "from IPython.display import HTML\n",
    "\n",
    "# Gym is a library for reinforcement learning\n",
    "# It provides a simple interface to a large number of tasks, including\n",
    "#Classic control tasks (CartPole, Pendulum)\n",
    "#Classic video games \n",
    "#Continuous control tasks\n",
    "#Robotic arm manipulation\n",
    "\n",
    "import gym\n",
    "from gym import spaces\n",
    "from gym.error import DependencyNotInstalled\n",
    "\n",
    "import pygame\n",
    "from pygame import gfxdraw\n",
    "\n",
    "\n",
    "class Maze(gym.Env):\n",
    "    def __init__(self, exploring_starts: bool = False,\n",
    "                 shaped_rewards: bool = False, size: int = 5) -> None:\n",
    "        super().__init__()\n",
    "        self.exploring_starts = exploring_starts\n",
    "        self.shaped_rewards = shaped_rewards\n",
    "        self.state = (size - 1, size - 1)\n",
    "        self.goal = (size - 1, size - 1)\n",
    "        self.maze = self._create_maze(size=size)\n",
    "        self.distances = self._compute_distances(self.goal, self.maze)\n",
    "        self.action_space = spaces.Discrete(n=4)\n",
    "        self.action_space.action_meanings = {0: 'UP', 1: 'RIGHT', 2: 'DOWN', 3: \"LEFT\"}\n",
    "        self.observation_space = spaces.MultiDiscrete([size, size])\n",
    "\n",
    "        self.screen = None\n",
    "        self.agent_transform = None\n",
    "\n",
    "    def step(self, action: int) -> Tuple[Tuple[int, int], float, bool, Dict]:\n",
    "        reward = self.compute_reward(self.state, action)\n",
    "        self.state = self._get_next_state(self.state, action)\n",
    "        done = self.state == self.goal\n",
    "        info = {}\n",
    "        return self.state, reward, done, info\n",
    "\n",
    "    def reset(self) -> Tuple[int, int]:\n",
    "        if self.exploring_starts:\n",
    "            while self.state == self.goal:\n",
    "                self.state = tuple(self.observation_space.sample())\n",
    "        else:\n",
    "            self.state = (0, 0)\n",
    "        return self.state\n",
    "\n",
    "    def render(self, mode: str = 'human') -> Optional[np.ndarray]:\n",
    "        assert mode in ['human', 'rgb_array']\n",
    "\n",
    "        screen_size = 600\n",
    "        scale = screen_size / 5\n",
    "\n",
    "        if self.screen is None:\n",
    "            pygame.init()\n",
    "            self.screen = pygame.Surface((screen_size, screen_size))\n",
    "\n",
    "        surf = pygame.Surface((screen_size, screen_size))\n",
    "        surf.fill((22, 36, 71))\n",
    "\n",
    "\n",
    "        for row in range(5):\n",
    "            for col in range(5):\n",
    "\n",
    "                state = (row, col)\n",
    "                for next_state in [(row + 1, col), (row - 1, col), (row, col + 1), (row, col - 1)]:\n",
    "                    if next_state not in self.maze[state]:\n",
    "\n",
    "                        # Add the geometry of the edges and walls (i.e. the boundaries between\n",
    "                        # adjacent squares that are not connected).\n",
    "                        row_diff, col_diff = np.subtract(next_state, state)\n",
    "                        left = (col + (col_diff > 0)) * scale - 2 * (col_diff != 0)\n",
    "                        right = ((col + 1) - (col_diff < 0)) * scale + 2 * (col_diff != 0)\n",
    "                        top = (5 - (row + (row_diff > 0))) * scale - 2 * (row_diff != 0)\n",
    "                        bottom = (5 - ((row + 1) - (row_diff < 0))) * scale + 2 * (row_diff != 0)\n",
    "\n",
    "                        gfxdraw.filled_polygon(surf, [(left, bottom), (left, top), (right, top), (right, bottom)], (255, 255, 255))\n",
    "\n",
    "        # Add the geometry of the goal square to the viewer.\n",
    "        left, right, top, bottom = scale * 4 + 10, scale * 5 - 10, scale - 10, 10\n",
    "        gfxdraw.filled_polygon(surf, [(left, bottom), (left, top), (right, top), (right, bottom)], (40, 199, 172))\n",
    "\n",
    "        # Add the geometry of the agent to the viewer.\n",
    "        agent_row = int(screen_size - scale * (self.state[0] + .5))\n",
    "        agent_col = int(scale * (self.state[1] + .5))\n",
    "        gfxdraw.filled_circle(surf, agent_col, agent_row, int(scale * .6 / 2), (228, 63, 90))\n",
    "\n",
    "        surf = pygame.transform.flip(surf, False, True)\n",
    "        self.screen.blit(surf, (0, 0))\n",
    "\n",
    "        return np.transpose(\n",
    "                np.array(pygame.surfarray.pixels3d(self.screen)), axes=(1, 0, 2)\n",
    "            )\n",
    "\n",
    "    def close(self) -> None:\n",
    "        if self.screen is not None:\n",
    "            pygame.display.quit()\n",
    "            pygame.quit()\n",
    "            self.screen = None\n",
    "\n",
    "    def compute_reward(self, state: Tuple[int, int], action: int) -> float:\n",
    "        next_state = self._get_next_state(state, action)\n",
    "        if self.shaped_rewards:\n",
    "            return - (self.distances[next_state] / self.distances.max())\n",
    "        return - float(state != self.goal)\n",
    "\n",
    "    def simulate_step(self, state: Tuple[int, int], action: int):\n",
    "        reward = self.compute_reward(state, action)\n",
    "        next_state = self._get_next_state(state, action)\n",
    "        done = next_state == self.goal\n",
    "        info = {}\n",
    "        return next_state, reward, done, info\n",
    "\n",
    "    def _get_next_state(self, state: Tuple[int, int], action: int) -> Tuple[int, int]:\n",
    "        if action == 0:\n",
    "            next_state = (state[0] - 1, state[1])\n",
    "        elif action == 1:\n",
    "            next_state = (state[0], state[1] + 1)\n",
    "        elif action == 2:\n",
    "            next_state = (state[0] + 1, state[1])\n",
    "        elif action == 3:\n",
    "            next_state = (state[0], state[1] - 1)\n",
    "        else:\n",
    "            raise ValueError(\"Action value not supported:\", action)\n",
    "        if next_state in self.maze[state]:\n",
    "            return next_state\n",
    "        return state\n",
    "\n",
    "    @staticmethod\n",
    "    def _create_maze(size: int) -> Dict[Tuple[int, int], Iterable[Tuple[int, int]]]:\n",
    "        maze = {(row, col): [(row - 1, col), (row + 1, col), (row, col - 1), (row, col + 1)]\n",
    "                for row in range(size) for col in range(size)}\n",
    "\n",
    "        left_edges = [[(row, 0), (row, -1)] for row in range(size)]\n",
    "        right_edges = [[(row, size - 1), (row, size)] for row in range(size)]\n",
    "        upper_edges = [[(0, col), (-1, col)] for col in range(size)]\n",
    "        lower_edges = [[(size - 1, col), (size, col)] for col in range(size)]\n",
    "        walls = [\n",
    "            [(1, 0), (1, 1)], [(2, 0), (2, 1)], [(3, 0), (3, 1)],\n",
    "            [(1, 1), (1, 2)], [(2, 1), (2, 2)], [(3, 1), (3, 2)],\n",
    "            [(3, 1), (4, 1)], [(0, 2), (1, 2)], [(1, 2), (1, 3)],\n",
    "            [(2, 2), (3, 2)], [(2, 3), (3, 3)], [(2, 4), (3, 4)],\n",
    "            [(4, 2), (4, 3)], [(1, 3), (1, 4)], [(2, 3), (2, 4)],\n",
    "        ]\n",
    "\n",
    "        obstacles = upper_edges + lower_edges + left_edges + right_edges + walls\n",
    "\n",
    "        for src, dst in obstacles:\n",
    "            maze[src].remove(dst)\n",
    "\n",
    "            if dst in maze:\n",
    "                maze[dst].remove(src)\n",
    "\n",
    "        return maze\n",
    "\n",
    "    @staticmethod\n",
    "    def _compute_distances(goal: Tuple[int, int],\n",
    "                           maze: Dict[Tuple[int, int], Iterable[Tuple[int, int]]]) -> np.ndarray:\n",
    "        distances = np.full((5, 5), np.inf)\n",
    "        visited = set()\n",
    "        distances[goal] = 0.\n",
    "\n",
    "        while visited != set(maze):\n",
    "            sorted_dst = [(v // 5, v % 5) for v in distances.argsort(axis=None)]\n",
    "            closest = next(x for x in sorted_dst if x not in visited)\n",
    "            visited.add(closest)\n",
    "\n",
    "            for neighbour in maze[closest]:\n",
    "                distances[neighbour] = min(distances[neighbour], distances[closest] + 1)\n",
    "        return distances\n",
    "\n",
    "\n",
    "def plot_policy(probs_or_qvals, frame, action_meanings=None):\n",
    "    if action_meanings is None:\n",
    "        action_meanings = {0: 'U', 1: 'R', 2: 'D', 3: 'L'}\n",
    "    fig, axes = plt.subplots(1, 2, figsize=(8, 4))\n",
    "    max_prob_actions = probs_or_qvals.argmax(axis=-1)\n",
    "    probs_copy = max_prob_actions.copy().astype(object)\n",
    "    for key in action_meanings:\n",
    "            probs_copy[probs_copy == key] = action_meanings[key]\n",
    "    sns.heatmap(max_prob_actions, annot=probs_copy, fmt='', cbar=False, cmap='coolwarm',\n",
    "                    annot_kws={'weight': 'bold', 'size': 12}, linewidths=2, ax=axes[0])\n",
    "    axes[1].imshow(frame)\n",
    "    axes[0].axis('off')\n",
    "    axes[1].axis('off')\n",
    "    plt.suptitle(\"Policy\", size=18)\n",
    "    plt.tight_layout()\n",
    "        \n",
    "\n",
    "def plot_values(state_values, frame):\n",
    "    f, axes = plt.subplots(1, 2, figsize=(10, 4))\n",
    "    sns.heatmap(state_values, annot=True, fmt=\".2f\", cmap='coolwarm',\n",
    "                annot_kws={'weight': 'bold', 'size': 12}, linewidths=2, ax=axes[0])\n",
    "    axes[1].imshow(frame)\n",
    "    axes[0].axis('off')\n",
    "    axes[1].axis('off')\n",
    "    plt.tight_layout()\n",
    "\n",
    "plt.rcParams['animation.ffmpeg_path'] = 'C:\\\\Anaconda3\\\\2023.03-1\\\\Library\\\\bin\\\\ffmpeg.EXE'\n",
    "\n",
    "\n",
    "def plot_values2(state_values, frame, action_meanings=None):\n",
    "    f, axes = plt.subplots(2, 2, figsize=(10, 10))\n",
    "    f.suptitle(\"Action Values\", size=20)\n",
    "    axes = axes.flatten()\n",
    "\n",
    "    if action_meanings is None:\n",
    "        action_meanings = {0: 'U', 1: 'R', 2: 'D', 3: 'L'}\n",
    "\n",
    "    for action in range(4):\n",
    "        ax = axes[action]\n",
    "        sns.heatmap(state_values[:, :, action], annot=True, fmt=\".2f\", cmap='coolwarm',\n",
    "                    annot_kws={'weight': 'bold', 'size': 12}, linewidths=2, ax=ax)\n",
    "        ax.set_title(f\"Action: {action_meanings[action]}\")\n",
    "\n",
    "    axes[-1].imshow(frame)\n",
    "    for ax in axes:\n",
    "        ax.axis('off')\n",
    "\n",
    "    plt.tight_layout(rect=[0, 0, 1, 0.96])  # Adjust layout to avoid suptitle overlap\n",
    "    plt.show()\n",
    "    \n",
    "\n",
    "def display_video(frames):\n",
    "    # Copied from: https://colab.research.google.com/github/deepmind/dm_control/blob/master/tutorial.ipynb\n",
    "    orig_backend = matplotlib.get_backend()\n",
    "    matplotlib.use('Agg')\n",
    "    fig, ax = plt.subplots(1, 1, figsize=(5, 5))\n",
    "    matplotlib.use(orig_backend)\n",
    "    ax.set_axis_off()\n",
    "    ax.set_aspect('equal')\n",
    "    ax.set_position([0, 0, 1, 1])\n",
    "    im = ax.imshow(frames[0])\n",
    "    def update(frame):\n",
    "        im.set_data(frame)\n",
    "        return [im]\n",
    "    anim = animation.FuncAnimation(fig=fig, func=update, frames=frames,\n",
    "                                        interval=50, blit=True, repeat=False)\n",
    "    return HTML(anim.to_html5_video())\n",
    "\n",
    "\n",
    "def test_agent(environment, policy, episodes=10):\n",
    "    frames = []\n",
    "    for episode in range(episodes):\n",
    "        state = env.reset()\n",
    "        done = False\n",
    "        frames.append(env.render(mode=\"rgb_array\"))\n",
    "\n",
    "        while not done:\n",
    "            p = policy(state)\n",
    "            if isinstance(p, np.ndarray):\n",
    "                action = np.random.choice(4, p=p)\n",
    "            else:\n",
    "                action = p\n",
    "            next_state, reward, done, extra_info = env.step(action)\n",
    "            img = env.render(mode=\"rgb_array\")\n",
    "            frames.append(img)\n",
    "            state = next_state\n",
    "\n",
    "        return display_video(frames)\n",
    "\n"
   ]
  },
  {
   "cell_type": "code",
   "execution_count": 19,
   "id": "71b61fa2",
   "metadata": {},
   "outputs": [],
   "source": [
    "import gym\n",
    "import numpy as np\n",
    "from IPython import display\n",
    "from matplotlib import pyplot as plt\n",
    "env = Maze() # 5 x 5 set"
   ]
  },
  {
   "cell_type": "code",
   "execution_count": 20,
   "id": "7fdfc843",
   "metadata": {},
   "outputs": [
    {
     "name": "stdout",
     "output_type": "stream",
     "text": [
      "The new episode will start in state: (0, 0)\n"
     ]
    }
   ],
   "source": [
    "initial_state = env.reset() # this method reset the environment to its initial state to  and returns it so that the agent can observe it.\n",
    "print(f\"The new episode will start in state: {initial_state}\") "
   ]
  },
  {
   "cell_type": "code",
   "execution_count": 21,
   "id": "c784f3fa",
   "metadata": {},
   "outputs": [
    {
     "data": {
      "text/plain": [
       "<matplotlib.image.AxesImage at 0x28c4f19af50>"
      ]
     },
     "execution_count": 21,
     "metadata": {},
     "output_type": "execute_result"
    },
    {
     "data": {
      "image/png": "[encoded data removed]",
      "text/plain": [
       "<Figure size 640x480 with 1 Axes>"
      ]
     },
     "metadata": {},
     "output_type": "display_data"
    }
   ],
   "source": [
    "frame = env.render(mode='rgb_array') # this method (render) e a visual to the current state in the env. \n",
    "plt.axis('off')\n",
    "plt.title(f\"State: {initial_state}\") # it set the state to initial state \n",
    "plt.imshow(frame) # matplotlib to show image"
   ]
  },
  {
   "cell_type": "code",
   "execution_count": 22,
   "id": "59962d3e",
   "metadata": {},
   "outputs": [
    {
     "name": "stdout",
     "output_type": "stream",
     "text": [
      "After moving down 1 row, the agent is in state: (1, 0)\n",
      "After moving down 1 row, we got a reward of: -1.0\n",
      "After moving down 1 row, the task is not finished\n"
     ]
    }
   ],
   "source": [
    "action = 2 \n",
    "next_state, reward, done, info = env.step(action) # gym give another method to control action \"step\" its apply action selected by the agent in the environment\n",
    "print(f\"After moving down 1 row, the agent is in state: {next_state}\") # it return: The next state / reward obtained / T/F  the task has been completed /  other relevant information in a python dictionary\n",
    "print(f\"After moving down 1 row, we got a reward of: {reward}\")\n",
    "print(\"After moving down 1 row, the task is\", \"\" if done else \"not\", \"finished\")"
   ]
  },
  {
   "cell_type": "code",
   "execution_count": 23,
   "id": "5e74a460",
   "metadata": {},
   "outputs": [
    {
     "data": {
      "text/plain": [
       "<matplotlib.image.AxesImage at 0x28c48c8a350>"
      ]
     },
     "execution_count": 23,
     "metadata": {},
     "output_type": "execute_result"
    },
    {
     "data": {
      "image/png": "[encoded data removed]",
      "text/plain": [
       "<Figure size 640x480 with 1 Axes>"
      ]
     },
     "metadata": {},
     "output_type": "display_data"
    }
   ],
   "source": [
    "frame = env.render(mode='rgb_array')\n",
    "plt.axis('off')\n",
    "plt.title(f\"State: {next_state}\")\n",
    "plt.imshow(frame) #to show the previos action selection and where the agent in which state "
   ]
  },
  {
   "cell_type": "code",
   "execution_count": 24,
   "id": "9fcaa76c",
   "metadata": {},
   "outputs": [],
   "source": [
    "env.close() # another methode to close the control task by gym "
   ]
  },
  {
   "cell_type": "code",
   "execution_count": 25,
   "id": "cb326f19",
   "metadata": {},
   "outputs": [],
   "source": [
    "env = Maze() # 5 x 5 set"
   ]
  },
  {
   "cell_type": "code",
   "execution_count": 26,
   "id": "e48d5137",
   "metadata": {},
   "outputs": [],
   "source": [
    "# The states of a tuple of two integers, both in the range [0, 4], representing the row and column in which the agent is currently located:\n",
    "# s=(row,column)row,column∈{0,1,2,3,4}"
   ]
  },
  {
   "cell_type": "code",
   "execution_count": 27,
   "id": "9b93f4cc",
   "metadata": {},
   "outputs": [
    {
     "name": "stdout",
     "output_type": "stream",
     "text": [
      "For example, the initial state is: (0, 0)\n",
      "The space state is of type: MultiDiscrete([5 5])\n"
     ]
    }
   ],
   "source": [
    "print(f\"For example, the initial state is: {env.reset()}\")\n",
    "print(f\"The space state is of type: {env.observation_space}\") # gym library store the state in the env.observation_space "
   ]
  },
  {
   "cell_type": "code",
   "execution_count": 28,
   "id": "a1963a2a",
   "metadata": {},
   "outputs": [
    {
     "name": "stdout",
     "output_type": "stream",
     "text": [
      "An example of a valid action is: 1\n",
      "The action state is of type: Discrete(4)\n"
     ]
    }
   ],
   "source": [
    "print(f\"An example of a valid action is: {env.action_space.sample()}\") # sample pick random action in the env \n",
    "print(f\"The action state is of type: {env.action_space}\")"
   ]
  },
  {
   "cell_type": "code",
   "execution_count": 29,
   "id": "3b2b072f",
   "metadata": {},
   "outputs": [],
   "source": [
    "# 0 -> move up\n",
    "# 1 -> move right\n",
    "# 2 -> move down\n",
    "# 3 -> move left"
   ]
  },
  {
   "cell_type": "code",
   "execution_count": 30,
   "id": "823030b7",
   "metadata": {},
   "outputs": [
    {
     "name": "stdout",
     "output_type": "stream",
     "text": [
      "trajectory:\n",
      "[[(0, 0), 0, -1.0, False, (0, 0)], [(0, 0), 0, -1.0, False, (0, 0)], [(0, 0), 2, -1.0, False, (1, 0)], [(1, 0), 1, -1.0, False, (1, 0)], [(1, 0), 1, -1.0, False, (1, 0)], [(1, 0), 1, -1.0, False, (1, 0)], [(1, 0), 0, -1.0, False, (0, 0)], [(0, 0), 0, -1.0, False, (0, 0)], [(0, 0), 2, -1.0, False, (1, 0)], [(1, 0), 0, -1.0, False, (0, 0)]]\n"
     ]
    }
   ],
   "source": [
    "env = Maze()\n",
    "state = env.reset()\n",
    "trajectory = [] # initializes an empty list to store information about each step in the agent's interaction with the environment.\n",
    "for _ in range(10):\n",
    "    action = env.action_space.sample()\n",
    "    next_state, reward, done, extra_info = env.step(action)\n",
    "    trajectory.append([state, action, reward, done, next_state]) # the trajectory have these elements \n",
    "    state = next_state\n",
    "env.close()\n",
    "\n",
    "print(f\"trajectory:\\n{trajectory}\")"
   ]
  },
  {
   "cell_type": "code",
   "execution_count": 31,
   "id": "8943bb9e",
   "metadata": {},
   "outputs": [],
   "source": [
    "env.close() "
   ]
  },
  {
   "cell_type": "code",
   "execution_count": 32,
   "id": "9f9643be",
   "metadata": {},
   "outputs": [],
   "source": [
    "import numpy as np  # Allows working with vectors and matrices and represents the value table\n",
    "import matplotlib.pyplot as plt  # Used for plotting and visualization"
   ]
  },
  {
   "cell_type": "code",
   "execution_count": 33,
   "id": "4288ba05",
   "metadata": {},
   "outputs": [],
   "source": [
    "env = Maze()"
   ]
  },
  {
   "cell_type": "code",
   "execution_count": 34,
   "id": "55f3738b",
   "metadata": {},
   "outputs": [
    {
     "data": {
      "text/plain": [
       "<matplotlib.image.AxesImage at 0x28c50d5da50>"
      ]
     },
     "execution_count": 34,
     "metadata": {},
     "output_type": "execute_result"
    },
    {
     "data": {
      "image/png": "[encoded data removed]",
      "text/plain": [
       "<Figure size 640x480 with 1 Axes>"
      ]
     },
     "metadata": {},
     "output_type": "display_data"
    }
   ],
   "source": [
    "frame = env.render(mode='rgb_array') # to show the env visually \n",
    "plt.axis('on') \n",
    "plt.imshow(frame)"
   ]
  },
  {
   "cell_type": "code",
   "execution_count": 35,
   "id": "d23f1914",
   "metadata": {},
   "outputs": [
    {
     "name": "stdout",
     "output_type": "stream",
     "text": [
      "Observation space shape: [5 5]\n",
      "Number of actions: 4\n"
     ]
    }
   ],
   "source": [
    "print(f\"Observation space shape: {env.observation_space.nvec}\") # nvec > num of row and colm of the state \n",
    "print(f\"Number of actions: {env.action_space.n}\") # n > varble store the avilable action that the agent can chose from"
   ]
  },
  {
   "cell_type": "code",
   "execution_count": 36,
   "id": "cfe1a6b6",
   "metadata": {},
   "outputs": [],
   "source": [
    "policy_probs = np.full((5, 5, 4), 0.25) # Create a table for the agent policy (the probeplty will change throug the learning process)"
   ]
  },
  {
   "cell_type": "code",
   "execution_count": 37,
   "id": "b53d67ff",
   "metadata": {},
   "outputs": [],
   "source": [
    "def policy(state):\n",
    "    return policy_probs[state] # to look at the state and find the right probelty for each state "
   ]
  },
  {
   "cell_type": "code",
   "execution_count": 41,
   "id": "fcd546f4",
   "metadata": {},
   "outputs": [
    {
     "name": "stdout",
     "output_type": "stream",
     "text": [
      "Probability of taking action 0: 0.25\n",
      "Probability of taking action 1: 0.25\n",
      "Probability of taking action 2: 0.25\n",
      "Probability of taking action 3: 0.25\n"
     ]
    }
   ],
   "source": [
    "action_probabilities = policy((0,0)) # test policy with state 0,0 \n",
    "for action, prob in zip(range(4), action_probabilities):\n",
    "    print(f\"Probability of taking action {action}: {prob}\")"
   ]
  },
  {
   "cell_type": "code",
   "execution_count": 42,
   "id": "97a4b62b",
   "metadata": {},
   "outputs": [],
   "source": [
    "#test_agent(env, policy, episodes=5) not importent it just show a vid"
   ]
  },
  {
   "cell_type": "code",
   "execution_count": 43,
   "id": "dc1dcdd9",
   "metadata": {},
   "outputs": [
    {
     "data": {
      "text/plain": [
       "<matplotlib.image.AxesImage at 0x28c7fd7d1d0>"
      ]
     },
     "execution_count": 43,
     "metadata": {},
     "output_type": "execute_result"
    },
    {
     "data": {
      "image/png": "[encoded data removed]",
      "text/plain": [
       "<Figure size 600x600 with 1 Axes>"
      ]
     },
     "metadata": {},
     "output_type": "display_data"
    }
   ],
   "source": [
    "frame = env.render(mode='rgb_array')\n",
    "plt.figure(figsize=(6,6))\n",
    "plt.axis('on')\n",
    "plt.imshow(frame)"
   ]
  },
  {
   "cell_type": "code",
   "execution_count": 44,
   "id": "a2d31f56",
   "metadata": {},
   "outputs": [
    {
     "data": {
      "image/png": "[encoded data removed]",
      "text/plain": [
       "<Figure size 800x400 with 2 Axes>"
      ]
     },
     "metadata": {},
     "output_type": "display_data"
    }
   ],
   "source": [
    "plot_policy(policy_probs,frame) # dision making of the agent in each state,  intial policy def the agent have the same action  "
   ]
  },
  {
   "cell_type": "code",
   "execution_count": 45,
   "id": "ec621420",
   "metadata": {},
   "outputs": [
    {
     "name": "stdout",
     "output_type": "stream",
     "text": [
      "Observation space shape: [5 5]\n",
      "Number of actions: 4\n"
     ]
    }
   ],
   "source": [
    "print(f\"Observation space shape: {env.observation_space.nvec}\")\n",
    "print(f\"Number of actions: {env.action_space.n}\")"
   ]
  },
  {
   "cell_type": "code",
   "execution_count": null,
   "id": "75566825",
   "metadata": {},
   "outputs": [],
   "source": []
  },
  {
   "cell_type": "code",
   "execution_count": 46,
   "id": "e9ea6414",
   "metadata": {},
   "outputs": [
    {
     "name": "stdout",
     "output_type": "stream",
     "text": [
      "ffmpeg not found. Please make sure it's installed.\n"
     ]
    }
   ],
   "source": [
    "import shutil\n",
    "\n",
    "ffmpeg_path = shutil.which('ffmpeg')\n",
    "\n",
    "if ffmpeg_path:\n",
    "    print(f\"Path to ffmpeg: {ffmpeg_path}\")\n",
    "else:\n",
    "    print(\"ffmpeg not found. Please make sure it's installed.\")"
   ]
  },
  {
   "cell_type": "code",
   "execution_count": 64,
   "id": "2c5ad850",
   "metadata": {},
   "outputs": [
    {
     "data": {
      "image/png": "[encoded data removed]",
      "text/plain": [
       "<Figure size 800x400 with 2 Axes>"
      ]
     },
     "metadata": {},
     "output_type": "display_data"
    }
   ],
   "source": [
    "plot_policy(policy_probs, frame)\n",
    "# !pip install ffmpeg"
   ]
  },
  {
   "cell_type": "code",
   "execution_count": 65,
   "id": "ed9cb49e",
   "metadata": {},
   "outputs": [],
   "source": [
    "state_values = np.zeros(shape=(5,5)) #estameate of the value in each state = 0 \n",
    "#state_values = np.full(shape=(5,5),  fill_value=0.0) #estameate of the value in each state = 0 "
   ]
  },
  {
   "cell_type": "code",
   "execution_count": 66,
   "id": "d7bebac8",
   "metadata": {},
   "outputs": [
    {
     "data": {
      "image/png": "[encoded data removed]",
      "text/plain": [
       "<Figure size 1000x400 with 3 Axes>"
      ]
     },
     "metadata": {},
     "output_type": "display_data"
    }
   ],
   "source": [
    "plot_values(state_values, frame)"
   ]
  },
  {
   "cell_type": "code",
   "execution_count": 67,
   "id": "e46e2676",
   "metadata": {},
   "outputs": [],
   "source": [
    "def value_iteration(policy_probs, state_values, theta=1e-6, gamma=0.99):    # def tne fun , the policy probabilities table\n",
    "    # state value estmate table, theta a pramater determines stopping the alpgarthem  ,  gamma balance between short-term and long-term considerations  \n",
    "    delta = float('inf')    #  to measure the change in state values during each iteration\n",
    "    iteration_count = 0\n",
    "    \n",
    "    while delta > theta:   # continue the loop until delta is smaller than theta.\n",
    "        delta = 0   \n",
    "        for row in range(5): #loop through rows in the state space\n",
    "            for col in range(5):  # loop through columns in the state space.\n",
    "                old_value = state_values[(row, col)] # Store the old value of the current state (by the state num)\n",
    "                action_probs = None # initialize action probabilities for the current state.\n",
    "                max_qsa = float('-inf') # Initialize action probabilities for the current state\n",
    "           \n",
    "\n",
    "                for action in range(4): # Loop through possible actions\n",
    "                    next_state, reward, _, _ = env.simulate_step((row, col), action) # take the output of the input ((row, col), action) \n",
    "                    qsa = reward + gamma * state_values[next_state] # calculate the Q-value for the current action.\n",
    "                    if qsa > max_qsa:\n",
    "                        max_qsa = qsa\n",
    "                        action_probs = np.zeros(4)\n",
    "                        action_probs[action] = 1 # assigns a probability of 0.25 to the specified action and distributes the remaining probability (0.75) among the other possible actions \n",
    "                             \n",
    "                state_values[(row, col)] = max_qsa # update the state value with the maximum Q-value.\n",
    "                policy_probs[(row, col)] = action_probs # update the policy probabilities for the current state\n",
    "\n",
    "                delta = max(delta, abs(max_qsa - old_value)) # update delta with the maximum difference between old and new values\n",
    "                iteration_count += 1 #to count the iter. \n",
    "\n",
    "                \n",
    "    print(f\"Number of iterations: {iteration_count}\")\n"
   ]
  },
  {
   "cell_type": "code",
   "execution_count": 68,
   "id": "27d7a589",
   "metadata": {},
   "outputs": [],
   "source": [
    "# Smaller Value (1e-10): A smaller theta value makes the convergence criterion stricter. The algorithm will require a more precise convergence, potentially leading to more iterations but with a higher level of precision.\n",
    "\n",
    "# Larger Value (1e-6): A larger theta value relaxes the convergence criterion, making the algorithm converge more quickly but potentially with a coarser level of precision.\n",
    "\n",
    "# Smaller Value (gamma < 1): A smaller gamma places less emphasis on future rewards. This can make the agent focus more on immediate rewards, potentially leading to more short term behavior. It might be suitable for tasks where short-term rewards are more critical.\n",
    "\n",
    "# Larger Value (gamma < 1): A larger gamma gives more weight to future rewards. This encourages the agent to consider long-term consequences and benefits, potentially leading to more strategic or far-sighted behavior. It is useful when the task involves delayed rewards and the agent needs to plan for the future.\n",
    "\n",
    "# the discount factor (gsmma( affects how much the agent values future rewards compared to immediate rewards.\n",
    "# When gamma is close to 1 ( 0.99), the agent is more forward-looking and considers long-term consequences,\n",
    "# potentially leading to faster convergence. when gamma is lower (0.60 - 0.50), \n",
    "# the agent may focus more on immediate rewards, and the convergence might take longer."
   ]
  },
  {
   "cell_type": "code",
   "execution_count": 69,
   "id": "b30059b9",
   "metadata": {},
   "outputs": [
    {
     "name": "stdout",
     "output_type": "stream",
     "text": [
      "Number of iterations: 450\n"
     ]
    }
   ],
   "source": [
    "value_iteration(policy_probs, state_values)"
   ]
  },
  {
   "cell_type": "code",
   "execution_count": 72,
   "id": "1447f870",
   "metadata": {},
   "outputs": [
    {
     "data": {
      "image/png": "[encoded data removed]",
      "text/plain": [
       "<Figure size 1000x400 with 3 Axes>"
      ]
     },
     "metadata": {},
     "output_type": "display_data"
    }
   ],
   "source": [
    "plot_values(state_values, frame) # need to check again why not showing all the state_val in the graph  "
   ]
  },
  {
   "cell_type": "code",
   "execution_count": 73,
   "id": "1caf99ce",
   "metadata": {},
   "outputs": [
    {
     "data": {
      "image/png": "[encoded data removed]",
      "text/plain": [
       "<Figure size 800x400 with 2 Axes>"
      ]
     },
     "metadata": {},
     "output_type": "display_data"
    }
   ],
   "source": [
    "plot_policy(policy_probs, frame)"
   ]
  },
  {
   "cell_type": "code",
   "execution_count": 74,
   "id": "59aae897",
   "metadata": {},
   "outputs": [],
   "source": [
    "#test_agent(env, policy) #Test the resulting agent\n"
   ]
  },
  {
   "cell_type": "code",
   "execution_count": 75,
   "id": "a6440bcd",
   "metadata": {},
   "outputs": [],
   "source": [
    "# value iter take the acrion that max the return \n",
    "# policy evaluation is udate state value using the action that max the return"
   ]
  },
  {
   "cell_type": "code",
   "execution_count": 76,
   "id": "92df0d6b",
   "metadata": {},
   "outputs": [],
   "source": [
    "env.close() \n",
    "# everything below this still needs improvement and some are just for experiments propose"
   ]
  },
  {
   "cell_type": "code",
   "execution_count": 77,
   "id": "c62d37ec",
   "metadata": {},
   "outputs": [],
   "source": [
    "env = Maze()"
   ]
  },
  {
   "cell_type": "code",
   "execution_count": 78,
   "id": "193f117b",
   "metadata": {},
   "outputs": [
    {
     "data": {
      "text/plain": [
       "<matplotlib.image.AxesImage at 0x28c02c5af10>"
      ]
     },
     "execution_count": 78,
     "metadata": {},
     "output_type": "execute_result"
    },
    {
     "data": {
      "image/png": "[encoded data removed]",
      "text/plain": [
       "<Figure size 640x480 with 1 Axes>"
      ]
     },
     "metadata": {},
     "output_type": "display_data"
    }
   ],
   "source": [
    "frame = env.render(mode='rgb_array')\n",
    "plt.axis('on')\n",
    "plt.imshow(frame)"
   ]
  },
  {
   "cell_type": "code",
   "execution_count": 79,
   "id": "1eb8831d",
   "metadata": {},
   "outputs": [
    {
     "name": "stdout",
     "output_type": "stream",
     "text": [
      "Observation space shape: [5 5]\n",
      "Number of actions: 4\n"
     ]
    }
   ],
   "source": [
    "print(f\"Observation space shape: {env.observation_space.nvec}\")\n",
    "print(f\"Number of actions: {env.action_space.n}\")"
   ]
  },
  {
   "cell_type": "code",
   "execution_count": 80,
   "id": "e2888b4c",
   "metadata": {},
   "outputs": [],
   "source": [
    "policy_probs = np.full((5, 5, 4), 0.25)"
   ]
  },
  {
   "cell_type": "code",
   "execution_count": 81,
   "id": "d226cf6e",
   "metadata": {},
   "outputs": [],
   "source": [
    "def policy(state):\n",
    "    return policy_probs[state]"
   ]
  },
  {
   "cell_type": "code",
   "execution_count": 82,
   "id": "e90d2ce9",
   "metadata": {},
   "outputs": [
    {
     "name": "stdout",
     "output_type": "stream",
     "text": [
      "Probability of taking action 0: 0.25\n",
      "Probability of taking action 1: 0.25\n",
      "Probability of taking action 2: 0.25\n",
      "Probability of taking action 3: 0.25\n"
     ]
    }
   ],
   "source": [
    "action_probabilities = policy((0,0)) # test the policy with this state to chexk the prob is set to 0.25\n",
    "for action, prob in zip(range(4), action_probabilities):\n",
    "    print(f\"Probability of taking action {action}: {prob}\")"
   ]
  },
  {
   "cell_type": "code",
   "execution_count": 92,
   "id": "f703da55",
   "metadata": {},
   "outputs": [],
   "source": [
    "#test_agent(env, policy, episodes=1)"
   ]
  },
  {
   "cell_type": "code",
   "execution_count": 93,
   "id": "95a52367",
   "metadata": {},
   "outputs": [
    {
     "data": {
      "image/png": "[encoded data removed]",
      "text/plain": [
       "<Figure size 800x400 with 2 Axes>"
      ]
     },
     "metadata": {},
     "output_type": "display_data"
    }
   ],
   "source": [
    "plot_policy(policy_probs, frame)"
   ]
  },
  {
   "cell_type": "code",
   "execution_count": 94,
   "id": "58b26e1d",
   "metadata": {},
   "outputs": [],
   "source": [
    "state_values = np.zeros(shape=(5,5)) # ceat the value table and set it to 0.0 "
   ]
  },
  {
   "cell_type": "code",
   "execution_count": 95,
   "id": "e033e80d",
   "metadata": {},
   "outputs": [
    {
     "data": {
      "image/png": "[encoded data removed]",
      "text/plain": [
       "<Figure size 1000x400 with 3 Axes>"
      ]
     },
     "metadata": {},
     "output_type": "display_data"
    }
   ],
   "source": [
    "plot_values(state_values, frame)"
   ]
  },
  {
   "cell_type": "code",
   "execution_count": 96,
   "id": "599867ea",
   "metadata": {},
   "outputs": [],
   "source": [
    "def policy_evaluation(policy_probs, state_values, theta=1e-6, gamma=0.99): # evaluate the poicy in the present moment \n",
    "    delta = float(\"inf\")                                             # that it take value table and make entry of the table \n",
    " # (table store the prob of policy cosing each action , store the value of state, max error in value eastemation that allowed,gamma balance between short-term and long-term considerations\n",
    "    while delta > theta:                                              # reflect the value of the state flowing that policy\n",
    "        delta = 0\n",
    "\n",
    "        for row in range(5):\n",
    "            for col in range(5):\n",
    "                old_value = state_values[(row, col)] # Store the old value of the current state (by the state num)\n",
    "                new_value = 0  # initialize the new value of the current state\n",
    "                action_probabilities = policy_probs[(row, col)] # retrieve actions probabilities for the current state\n",
    "\n",
    "                for action, prob in enumerate(action_probabilities): # loop through possible actions and its probabilities\n",
    "                    next_state, reward, _, _ = env.simulate_step((row, col), action)  # simulate the next state and reward for the action in present state\n",
    "                    new_value += prob * (reward + gamma * state_values[next_state]) # the return that expect to obtain if we take that action\n",
    "                                     #  which is the reward that we obtain simulated that step, plus the estimated value of the next state reched discoint by gamma\n",
    "                state_values[(row, col)] = new_value # assign the state value with the new value\n",
    "\n",
    "                delta = max(delta, abs(old_value - new_value)) # update delta with the max dif between old and new values (to stop this loop) \n",
    "                \n"
   ]
  },
  {
   "cell_type": "code",
   "execution_count": 97,
   "id": "cc58b28e",
   "metadata": {},
   "outputs": [],
   "source": [
    "def policy_improvement(policy_probs, state_values, gamma=0.99):\n",
    "\n",
    "    policy_stable = True\n",
    "    for row in range(5):\n",
    "        for col in range(5):\n",
    "            old_action = policy_probs[(row, col)].argmax() # get the old best action according to the current policy\n",
    "\n",
    "            new_action = None\n",
    "            max_qsa = float(\"-inf\")\n",
    "\n",
    "            for action in range(4):\n",
    "                next_state, reward, _, _ = env.simulate_step((row, col), action)\n",
    "                qsa = reward + gamma * state_values[next_state]\n",
    "                if qsa > max_qsa:\n",
    "                    max_qsa = qsa\n",
    "                    new_action = action\n",
    "\n",
    "            action_probs = np.zeros(4)\n",
    "            action_probs[new_action] = 1.\n",
    "            policy_probs[(row, col)] = action_probs\n",
    "\n",
    "            if new_action != old_action:\n",
    "                policy_stable = False\n",
    "\n",
    "    return policy_stable"
   ]
  },
  {
   "cell_type": "code",
   "execution_count": 98,
   "id": "02d359ba",
   "metadata": {},
   "outputs": [],
   "source": [
    "def policy_iteration(policy_probs, state_values, theta=1e-6, gamma=0.99):\n",
    "    policy_stable = False\n",
    "\n",
    "    while not policy_stable:\n",
    "\n",
    "        policy_evaluation(policy_probs, state_values, theta, gamma)\n",
    "\n",
    "        policy_stable = policy_improvement(policy_probs, state_values, gamma)"
   ]
  },
  {
   "cell_type": "code",
   "execution_count": 99,
   "id": "6bf9ad61",
   "metadata": {},
   "outputs": [],
   "source": [
    "policy_iteration(policy_probs, state_values)"
   ]
  },
  {
   "cell_type": "code",
   "execution_count": 100,
   "id": "f51e8471",
   "metadata": {},
   "outputs": [
    {
     "data": {
      "image/png": "[encoded data removed]",
      "text/plain": [
       "<Figure size 1000x400 with 3 Axes>"
      ]
     },
     "metadata": {},
     "output_type": "display_data"
    }
   ],
   "source": [
    "plot_values(state_values, frame)"
   ]
  },
  {
   "cell_type": "code",
   "execution_count": null,
   "id": "761e03b7",
   "metadata": {},
   "outputs": [],
   "source": [
    "plot_policy(policy_probs, frame)"
   ]
  },
  {
   "cell_type": "code",
   "execution_count": null,
   "id": "9987e738",
   "metadata": {},
   "outputs": [],
   "source": [
    "env.close()\n"
   ]
  },
  {
   "cell_type": "code",
   "execution_count": null,
   "id": "61c5e9b6",
   "metadata": {},
   "outputs": [],
   "source": [
    "env = Maze()"
   ]
  },
  {
   "cell_type": "code",
   "execution_count": null,
   "id": "51dbd361",
   "metadata": {},
   "outputs": [],
   "source": [
    "def policy(state, epsilon=0.):\n",
    "    if np.random.random() < epsilon:\n",
    "        return np.random.randint(4)\n",
    "    else:\n",
    "        av = action_values[state]\n",
    "        return np.random.choice(np.flatnonzero(av == av.max()))"
   ]
  },
  {
   "cell_type": "code",
   "execution_count": null,
   "id": "1fbd46e7",
   "metadata": {},
   "outputs": [],
   "source": [
    "action_values = np.zeros(shape=(5, 5, 4))\n",
    "\n",
    "action = policy((0,0))\n",
    "print(f\"Action taken in state (0,0): {action}\")"
   ]
  },
  {
   "cell_type": "code",
   "execution_count": null,
   "id": "5f1246e8",
   "metadata": {},
   "outputs": [],
   "source": [
    "plot_values2(action_values, frame)"
   ]
  },
  {
   "cell_type": "code",
   "execution_count": null,
   "id": "8d92bec0",
   "metadata": {},
   "outputs": [],
   "source": [
    "def constant_alpha_mc(policy, action_values, episodes, gamma=0.99, epsilon=0.2, alpha=0.1):\n",
    "\n",
    "    for episode in range(1, episodes+1):\n",
    "        state = env.reset()\n",
    "        done = False\n",
    "        transitions = []\n",
    "\n",
    "        while not done:\n",
    "            action = policy(state, epsilon)\n",
    "            next_state, reward, done, _ = env.step(action)\n",
    "            transitions.append([state, action, reward])\n",
    "            state = next_state\n",
    "\n",
    "        G = 0\n",
    "        for state_t, action_t, reward_t in reversed(transitions):\n",
    "            G = reward_t + gamma * G\n",
    "            action_values[state_t][action_t] += alpha * (G - action_values[state_t][action_t])"
   ]
  },
  {
   "cell_type": "code",
   "execution_count": null,
   "id": "b12f36c8",
   "metadata": {},
   "outputs": [],
   "source": [
    "constant_alpha_mc(policy, action_values, episodes=100)"
   ]
  },
  {
   "cell_type": "code",
   "execution_count": null,
   "id": "c209da94",
   "metadata": {},
   "outputs": [],
   "source": [
    "plot_values2(action_values, frame) # how to compine them in one graph do i need to defide each cel to 4? "
   ]
  },
  {
   "cell_type": "code",
   "execution_count": null,
   "id": "02082942",
   "metadata": {},
   "outputs": [],
   "source": [
    "plot_policy(action_values, frame) # this is not correct why??? "
   ]
  },
  {
   "cell_type": "code",
   "execution_count": null,
   "id": "d67fec87",
   "metadata": {},
   "outputs": [],
   "source": []
  },
  {
   "cell_type": "code",
   "execution_count": null,
   "id": "1bbe9f7e",
   "metadata": {},
   "outputs": [],
   "source": []
  },
  {
   "cell_type": "code",
   "execution_count": null,
   "id": "c1eed2b2",
   "metadata": {},
   "outputs": [],
   "source": [
    "action_values = np.zeros(shape=(5, 5, 4)) # def q value table (q(s,a))"
   ]
  },
  {
   "cell_type": "code",
   "execution_count": null,
   "id": "75ae6a5b",
   "metadata": {},
   "outputs": [],
   "source": [
    "plot_action_values(action_values)"
   ]
  },
  {
   "cell_type": "code",
   "execution_count": null,
   "id": "3b69a50f",
   "metadata": {},
   "outputs": [],
   "source": [
    "def policy(state, epsilon=0.):\n",
    "    if np.random.random() < epsilon:\n",
    "        return np.random.randint(4)\n",
    "    else:\n",
    "        av = action_values[state]\n",
    "        return np.random.choice(np.flatnonzero(av == av.max()))"
   ]
  },
  {
   "cell_type": "code",
   "execution_count": null,
   "id": "35c92af3",
   "metadata": {},
   "outputs": [],
   "source": [
    "action = policy((0,0))\n",
    "print(f\"Action taken in state (0,0): {action}\")"
   ]
  },
  {
   "cell_type": "code",
   "execution_count": null,
   "id": "82f6f901",
   "metadata": {},
   "outputs": [],
   "source": [
    "plot_policy(action_values, frame)\n"
   ]
  },
  {
   "cell_type": "code",
   "execution_count": null,
   "id": "4472a210",
   "metadata": {},
   "outputs": [],
   "source": [
    "def constant_alpha_mc(policy, action_values, episodes, gamma=0.99, epsilon=0.2, alpha=0.1): # mont carlo\n",
    "\n",
    "    for episode in range(1, episodes+1):\n",
    "        state = env.reset()\n",
    "        done = False\n",
    "        transitions = []\n",
    "\n",
    "        while not done:\n",
    "            action = policy(state, epsilon)\n",
    "            next_state, reward, done, _ = env.step(action)\n",
    "            transitions.append([state, action, reward])\n",
    "            state = next_state\n",
    "\n",
    "        G = 0\n",
    "        for state_t, action_t, reward_t in reversed(transitions):\n",
    "            G = reward_t + gamma * G\n",
    "            action_values[state_t][action_t] += alpha * (G - action_values[state_t][action_t])"
   ]
  },
  {
   "cell_type": "code",
   "execution_count": null,
   "id": "f9a56c8b",
   "metadata": {},
   "outputs": [],
   "source": [
    "constant_alpha_mc(policy, action_values, episodes=1000)"
   ]
  },
  {
   "cell_type": "code",
   "execution_count": null,
   "id": "109ec887",
   "metadata": {},
   "outputs": [],
   "source": [
    "# controls the size of the update made to the current estimate of a value or policy"
   ]
  },
  {
   "cell_type": "code",
   "execution_count": null,
   "id": "7b3aa7e2",
   "metadata": {},
   "outputs": [],
   "source": [
    "plot_action_values(action_values)"
   ]
  },
  {
   "cell_type": "code",
   "execution_count": null,
   "id": "93566bf0",
   "metadata": {},
   "outputs": [],
   "source": []
  }
 ],
 "metadata": {
  "kernelspec": {
   "display_name": "Python 3 (ipykernel)",
   "language": "python",
   "name": "python3"
  },
  "language_info": {
   "codemirror_mode": {
    "name": "ipython",
    "version": 3
   },
   "file_extension": ".py",
   "mimetype": "text/x-python",
   "name": "python",
   "nbconvert_exporter": "python",
   "pygments_lexer": "ipython3",
   "version": "3.11.7"
  }
 },
 "nbformat": 4,
 "nbformat_minor": 5
}
